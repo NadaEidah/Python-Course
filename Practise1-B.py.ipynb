{
 "cells": [
  {
   "cell_type": "code",
   "execution_count": null,
   "metadata": {},
   "outputs": [],
   "source": [
    "x= float(input(\"Enter your number:\"))\n",
    "if x<-100:\n",
    "    print (-x)\n",
    "elif x>=-100 and x<=-25:\n",
    "    print (x**4)\n",
    "elif x>-25 and x<=0:\n",
    "    print(x**2*3-1)\n",
    "elif x>0 and x<=100:\n",
    "    print (3.14*x+3**x)\n",
    "elif x>100:\n",
    "    print (x)"
   ]
  }
 ],
 "metadata": {
  "kernelspec": {
   "display_name": "Python 3",
   "language": "python",
   "name": "python3"
  },
  "language_info": {
   "codemirror_mode": {
    "name": "ipython",
    "version": 3
   },
   "file_extension": ".py",
   "mimetype": "text/x-python",
   "name": "python",
   "nbconvert_exporter": "python",
   "pygments_lexer": "ipython3",
   "version": "3.7.0"
  }
 },
 "nbformat": 4,
 "nbformat_minor": 2
}
