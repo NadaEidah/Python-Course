{
 "cells": [
  {
   "cell_type": "code",
   "execution_count": 4,
   "metadata": {},
   "outputs": [
    {
     "name": "stdout",
     "output_type": "stream",
     "text": [
      "the folder namennn\n"
     ]
    }
   ],
   "source": [
    "def filename (fn):\n",
    "    print(fn)\n",
    "\n",
    "deco = input(\"the folder name\")\n",
    "if deco== filename in Desktop:\n",
    "    new = input (\"the name \")\n",
    "import os\n",
    "if os.path.exists(\"deco\"):\n",
    "    os.rename(\"new\")"
   ]
  }
 ],
 "metadata": {
  "kernelspec": {
   "display_name": "Python 3",
   "language": "python",
   "name": "python3"
  },
  "language_info": {
   "codemirror_mode": {
    "name": "ipython",
    "version": 3
   },
   "file_extension": ".py",
   "mimetype": "text/x-python",
   "name": "python",
   "nbconvert_exporter": "python",
   "pygments_lexer": "ipython3",
   "version": "3.7.0"
  }
 },
 "nbformat": 4,
 "nbformat_minor": 2
}
