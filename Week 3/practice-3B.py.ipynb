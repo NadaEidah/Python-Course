{
 "cells": [
  {
   "cell_type": "code",
   "execution_count": 3,
   "metadata": {},
   "outputs": [
    {
     "ename": "SyntaxError",
     "evalue": "invalid syntax (<ipython-input-3-3658f2a67a7e>, line 8)",
     "output_type": "error",
     "traceback": [
      "\u001b[1;36m  File \u001b[1;32m\"<ipython-input-3-3658f2a67a7e>\"\u001b[1;36m, line \u001b[1;32m8\u001b[0m\n\u001b[1;33m    \"units\" : \" metric\" }\u001b[0m\n\u001b[1;37m            ^\u001b[0m\n\u001b[1;31mSyntaxError\u001b[0m\u001b[1;31m:\u001b[0m invalid syntax\n"
     ]
    }
   ],
   "source": [
    "#يوجد خطا في برنامج \n",
    "# weather will use :https://darksky.net\n",
    "import requests\n",
    "link = \"https://api.darksky.net/forecast/d8f4e160b430688b2f056bcaf5d8c3d6/37.8267,-122.4233\"\n",
    "city= input(\"what is your city?\")\n",
    "additional_data = {\n",
    "    \"APPID\" :\"d8f4e160b430688b2f056bcaf5d8c3d6\",\n",
    "     \"q\" : \"city\"\n",
    "     \"units\" : \" metric\" }\n",
    "date = requests.get(link,parms=additional_data).json()\n",
    "return request (\"weather\",link,city[0])\n",
    "print(date[\"city\"][\"temp\"])"
   ]
  }
 ],
 "metadata": {
  "kernelspec": {
   "display_name": "Python 3",
   "language": "python",
   "name": "python3"
  },
  "language_info": {
   "codemirror_mode": {
    "name": "ipython",
    "version": 3
   },
   "file_extension": ".py",
   "mimetype": "text/x-python",
   "name": "python",
   "nbconvert_exporter": "python",
   "pygments_lexer": "ipython3",
   "version": "3.7.0"
  }
 },
 "nbformat": 4,
 "nbformat_minor": 2
}
