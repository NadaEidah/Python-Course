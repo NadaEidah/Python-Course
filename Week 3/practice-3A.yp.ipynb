{
 "cells": [
  {
   "cell_type": "code",
   "execution_count": null,
   "metadata": {},
   "outputs": [],
   "source": [
    "#Forex APIS from https://data.fixer.io/\n",
    "import requests as rq\n",
    "ISS_Request = rq.get(\"http://data.fixer.io/api/latest?access_key=76bbd56d0aae143e1db65ef71db6fbe7\")\n",
    "ISS_Respone = ISS_Request.json()\n",
    "print (ISS_Respone)"
   ]
  },
  {
   "cell_type": "code",
   "execution_count": null,
   "metadata": {},
   "outputs": [],
   "source": [
    "# يوجد خطا \n",
    "import requests as rq\n",
    "ISS_Request= rq.get(\"http://data.fixer.io/api/convert\")\n",
    "ISS_Respone= ISS_Request.json()\n",
    "timenow = input(\"enter,YYY/M/D\")\n",
    "From = input(\"enter,From\")\n",
    "to = input(\"enter,to\")\n",
    "number = input (\"amount\")\n",
    "base_link_forex ='http://data.fixer.io/api/'\n",
    "parameters_forex ={\"access_key\" :\"76bbd56d0aae143e1db65ef71db6fbe7\",\n",
    "}\n",
    "import requests\n",
    "\n",
    "response = requests.get(base_link_forex,parameters_forex).json()\n",
    "lates_number_rates = {\n",
    "    \"From\":float(response[\"rates\"][\"number\"]), }\n",
    "result = (lates_number_rates[From]/lates_number_rates[to])*number"
   ]
  }
 ],
 "metadata": {
  "kernelspec": {
   "display_name": "Python 3",
   "language": "python",
   "name": "python3"
  },
  "language_info": {
   "codemirror_mode": {
    "name": "ipython",
    "version": 3
   },
   "file_extension": ".py",
   "mimetype": "text/x-python",
   "name": "python",
   "nbconvert_exporter": "python",
   "pygments_lexer": "ipython3",
   "version": "3.7.0"
  }
 },
 "nbformat": 4,
 "nbformat_minor": 2
}
