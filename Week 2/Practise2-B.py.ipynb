{
 "cells": [
  {
   "cell_type": "code",
   "execution_count": 10,
   "metadata": {},
   "outputs": [
    {
     "ename": "SyntaxError",
     "evalue": "unexpected EOF while parsing (<ipython-input-10-eaca8636e40b>, line 36)",
     "output_type": "error",
     "traceback": [
      "\u001b[1;36m  File \u001b[1;32m\"<ipython-input-10-eaca8636e40b>\"\u001b[1;36m, line \u001b[1;32m36\u001b[0m\n\u001b[1;33m    \u001b[0m\n\u001b[1;37m    ^\u001b[0m\n\u001b[1;31mSyntaxError\u001b[0m\u001b[1;31m:\u001b[0m unexpected EOF while parsing\n"
     ]
    }
   ],
   "source": [
    "print(\" choose your transformation: 1US OR 2JOD OR 3TRY\")\n",
    "choise=input()\n",
    "if choise==(\"1\"):\n",
    "    print (\"choose to currencie:JOD or TRY\")\n",
    "choise=input()\n",
    "if choise==(\"JOD\"):\n",
    "    a=float(input(\"enter currencie US to JOD \"))\n",
    "    print(int(a)*.70)\n",
    "elif choise==(\"TRY\"):\n",
    "    a=float(input(\"enter currencie US to TRY \"))\n",
    "    print(int(a)*5.56)\n",
    "elif print(\"error enter\"):\n",
    "    if choise==(\"2\"):\n",
    "        print (\"choose to currencie:US or TRY\")\n",
    "        choise=input()\n",
    "    if choise==(\"US\"):\n",
    "        a=float(input(\"enter currencie JOD to US\"))\n",
    "        print(int(a)*1.41)\n",
    "    elif choise==(\"TRY\"):\n",
    "        a=float(input(\"enter currencie JOD to TRY \"))\n",
    "        print(int(a)*7.84)\n",
    "    elif print(\"error enter\"):\n",
    "         choise=input()\n",
    "    if choise==(\"3\"):\n",
    "        print (\"choose to currencie: US or JOD\")\n",
    "        choise=input()\n",
    "    if choise==(\"US\"):\n",
    "        a=float(input(\"enter currencie TRY to US\"))\n",
    "        print((int(a)*5)/.90)\n",
    "    elif choise==(\"JOD\"):\n",
    "        a=float(input(\"enter currencie TRY to JOD\"))\n",
    "        print((int(a)*5)/.65)\n",
    "    elif print(\"thanks....the end\"):\n",
    "        \n",
    "        \n",
    " \n",
    "\n"
   ]
  }
 ],
 "metadata": {
  "kernelspec": {
   "display_name": "Python 3",
   "language": "python",
   "name": "python3"
  }
 },
 "nbformat": 4,
 "nbformat_minor": 2
}
